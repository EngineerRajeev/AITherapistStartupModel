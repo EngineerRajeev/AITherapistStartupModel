{
  "nbformat": 4,
  "nbformat_minor": 0,
  "metadata": {
    "colab": {
      "name": "Build an AI Startup with PyTorch",
      "version": "0.3.2",
      "provenance": []
    },
    "kernelspec": {
      "name": "python3",
      "display_name": "Python 3"
    }
  },
  "cells": [
    {
      "metadata": {
        "id": "D2hoS-06Da5k",
        "colab_type": "text"
      },
      "cell_type": "markdown",
      "source": [
        "## Build an AI Startup with PyTorch\n",
        "![alt text](https://i.imgur.com/kFn4vxs.png\n",
        ")\n",
        "\n",
        "## Steps\n",
        "\n",
        "1. How Will Learning PyTorch Help Make Money?\n",
        "2. Build a Sentiment Analysis Model in PyTorch\n",
        "3. Export the PyTorch model. (PyTorch > ONNX > Tensorflow)\n",
        "4. Setup Dialogflow (Natural Language Processing)\n",
        "5. Setup Firebase (Database + User Authentication)\n",
        "6. Build an Android App! (AI Therapy)\n",
        "    - Integrate Dialogflow\n",
        "    - Integrate Firebase\n",
        "    - Integrate Paypal\n",
        "    - Integrate Tensorflow Lite\n",
        "    \n",
        "![alt text](https://images.exxactcorp.com/CMS/landing-page/resource-center/supported-software/deep-learning/pytorch/PyTorch-logo.jpg)\n",
        "![alt text](https://onnx.ai/onnx-r/articles/imgs/ONNX_logo_main.png)\n",
        "![alt text](https://cdn-images-1.medium.com/max/1600/1*Kw9HwDcGuuZJS5Z5mQtXuw.png)\n",
        "![alt text](https://www.intrinsyc.com/wp-content/uploads/2017/01/android-logo.jpg)\n",
        "![alt text](https://www.wabion.com/wp-content/uploads/2017/11/dialogflow.png)\n",
        "![alt text](https://firebase.google.com/images/social.png)\n",
        "![alt text](https://www.jobs.ie/job-talk/wp-content/uploads/PayPal-Header--720x480.jpg)\n"
      ]
    },
    {
      "metadata": {
        "id": "pRX63gfatMRT",
        "colab_type": "text"
      },
      "cell_type": "markdown",
      "source": [
        "## AIStartupChallenge \n",
        "\n",
        "![alt text](https://i.imgur.com/PS1J6sQ.png)\n",
        "\n",
        "- I'm creating a challenge for our community! \n",
        "- The first 3 people or teams to create an AI app that gets at least 3 paying customers gets a video shoutout + i'll do a private hangout with them\n",
        "- Submit your entry via the google form containing link to your startup + the experience building it + your plan to grow it\n",
        "- Due Date is May 15 2019\n",
        "\n",
        "[Form ](https://forms.gle/YSmHXUoWSaLKGukC9)\n"
      ]
    },
    {
      "metadata": {
        "id": "4D9dvU-qtVQG",
        "colab_type": "text"
      },
      "cell_type": "markdown",
      "source": [
        "\n",
        "## How Do I make Money with PyTorch?\n",
        "\n",
        "![alt text](https://s3.amazonaws.com/cbi-research-portal-uploads/2018/01/04114952/EAAS_Jan_2018_1.png)\n",
        "\n",
        "[![IMAGE ALT TEXT HERE](https://img.youtube.com/vi/mrRfpiAwad0/0.jpg)](https://www.youtube.com/watch?v=mrRfpiAwad0)\n",
        "\n",
        "TL;DR? \n",
        "\n",
        "### 1 Start a Startup\n",
        "\n",
        "[![IMAGE ALT TEXT HERE](https://img.youtube.com/vi/NzmoPqte4V4/0.jpg)](https://www.youtube.com/watch?v=NzmoPqte4V4)\n",
        "\n",
        "[![IMAGE ALT TEXT HERE](https://img.youtube.com/vi/9bbS-trc8ys/0.jpg)](https://www.youtube.com/watch?v=9bbS-trc8ys)\n",
        "\n",
        "### 2 Write a Book\n",
        "\n",
        "\n",
        "[![IMAGE ALT TEXT HERE](https://img.youtube.com/vi/S47RIVkr978/0.jpg)](https://www.youtube.com/watch?v=S47RIVkr978)\n",
        "\n",
        "### 3 Create Educational Content (Youtube, Blog, Podcast, Newsletter)\n",
        "\n",
        "[![IMAGE ALT TEXT HERE](https://img.youtube.com/vi/tczjZOLVjJM/0.jpg)](https://www.youtube.com/watch?v=tczjZOLVjJM)\n",
        "\n",
        "### 4 Join a company\n",
        "\n",
        "[![IMAGE ALT TEXT HERE](https://img.youtube.com/vi/5KB5KAak6tM/0.jpg)](https://www.youtube.com/watch?v=5KB5KAak6tM)\n",
        "\n",
        "[![IMAGE ALT TEXT HERE](https://img.youtube.com/vi/OHhoLhYW2cg/0.jpg)](https://www.youtube.com/watch?v=OHhoLhYW2cg)\n",
        "\n",
        "[![IMAGE ALT TEXT HERE](https://img.youtube.com/vi/nMK94JlKRb4/0.jpg)](https://www.youtube.com/watch?v=nMK94JlKRb4)\n",
        "\n",
        "[![IMAGE ALT TEXT HERE](https://img.youtube.com/vi/CGTn0ceOaOM/0.jpg)](https://www.youtube.com/watch?v=CGTn0ceOaOM)\n",
        "\n",
        "### 5 Contract Work\n",
        "\n",
        "[![IMAGE ALT TEXT HERE](https://img.youtube.com/vi/x6GYD5WPda4/0.jpg)](https://www.youtube.com/watch?v=x6GYD5WPda4)\n",
        "\n",
        "### 6 Programming Competitions\n",
        "\n",
        "[![IMAGE ALT TEXT HERE](https://img.youtube.com/vi/jm8IBBKNeA4/0.jpg)](https://www.youtube.com/watch?v=jm8IBBKNeA4)\n",
        "\n",
        "### 7 Automated Trading\n",
        "\n",
        "[![IMAGE ALT TEXT HERE](https://img.youtube.com/vi/ftMq5ps503w/0.jpg)](https://www.youtube.com/watch?v=ftMq5ps503w)\n",
        "\n",
        "[![IMAGE ALT TEXT HERE](https://img.youtube.com/vi/SSu00IRRraY/0.jpg)](https://www.youtube.com/watch?v=SSu00IRRraY)\n",
        "\n",
        "[![IMAGE ALT TEXT HERE](https://img.youtube.com/vi/F2f98pNj99k/0.jpg)](https://www.youtube.com/watch?v=F2f98pNj99k)\n"
      ]
    },
    {
      "metadata": {
        "id": "_snFMM7Itpyz",
        "colab_type": "text"
      },
      "cell_type": "markdown",
      "source": [
        "\n",
        "### Whats PyTorch\n",
        "\n",
        "- PyTorch is a deep learning framework created by Facebook\n",
        "- PyTorch is the Python successor of Torch library written in Lua and a major contender for TensorFlow\n",
        "- PyTorch was created by Facebook and is utilized by Twitter, Salesforce, the University of Oxford, and numerous others.\n",
        "\n",
        "### 3 Major Unique Features \n",
        "\n",
        "# 1 Python-Native Debugging\n",
        "\n",
        "- Since the graph in PyTorch is characterized at runtime you can use native Python debuggers like pdb, ipdb, PyCharm debugger or old trusty print explanations. This isn’t the situation with TensorFlow.\n",
        "\n"
      ]
    },
    {
      "metadata": {
        "id": "8kZ_PoY-tVPb",
        "colab_type": "text"
      },
      "cell_type": "markdown",
      "source": [
        "\n",
        "\n",
        "```\n",
        "Example\n",
        "```\n",
        "\n"
      ]
    },
    {
      "metadata": {
        "id": "Y_JRSuvhrYgb",
        "colab_type": "code",
        "colab": {}
      },
      "cell_type": "code",
      "source": [
        "def get_batch2(X,Y,M,dtype):\n",
        "    '''\n",
        "    get batch for pytorch model\n",
        "    '''\n",
        "    # TODO fix and make it nicer, there is pytorch forum question\n",
        "    #X,Y = X.data.numpy(), Y.data.numpy()\n",
        "    X,Y = X, Y\n",
        "    N = X.size()[0]\n",
        "    if dtype ==  torch.cuda.FloatTensor:\n",
        "        batch_indices = torch.cuda.LongTensor( np.random.randint(0,N,size=M) )# without replacement\n",
        "    else:\n",
        "        batch_indices = torch.LongTensor( np.random.randint(0,N,size=M) ).type(dtype)  # without replacement\n",
        "    pdb.set_trace() ## YES - native pythong debugging \n",
        "    batch_xs = torch.index_select(X,0,batch_indices)\n",
        "    batch_ys = torch.index_select(Y,0,batch_indices)\n",
        "    return Variable(batch_xs, requires_grad=False), Variable(batch_ys, requires_grad=False)"
      ],
      "execution_count": 0,
      "outputs": []
    },
    {
      "metadata": {
        "id": "0dfJFYdUt5Cr",
        "colab_type": "text"
      },
      "cell_type": "markdown",
      "source": [
        "\n",
        "# 2 - Imperative Programming\n",
        "\n",
        "- PyTorch performs computations as it goes through each line of the written code. \n",
        "- This is quite similar to how a Python program is executed. \n",
        "- This concept is called imperative programming. \n",
        "- The biggest advantage of this feature is that your code and programming logic can be debugged on the fly.\n",
        "- You can define, change and execute nodes as you go, no special session interfaces or placeholders.\n",
        "\n",
        "![alt text](https://image.slidesharecdn.com/functionalprogrammingwithgroovy-111105130455-phpapp01/95/functional-programming-with-groovy-14-728.jpg?cb=1320499321)\n",
        "![alt text](https://cdn-images-1.medium.com/max/1600/0*UjzkAaWQ_BmCtWix.png)\n",
        "\n"
      ]
    },
    {
      "metadata": {
        "id": "oinYx0nRvYMi",
        "colab_type": "code",
        "colab": {}
      },
      "cell_type": "code",
      "source": [
        "## imperative\n",
        "\n",
        " import numpy as np\n",
        "    a = np.ones(10)\n",
        "    b = np.ones(10) * 2\n",
        "    c = b * a\n",
        "    d = c + 1\n",
        "    \n",
        "    \n",
        "## Symbolic\n",
        "\n",
        "    A = Variable('A')\n",
        "    B = Variable('B')\n",
        "    C = B * A\n",
        "    D = C + Constant(1)\n",
        "    # compiles the function\n",
        "    f = compile(D)\n",
        "    d = f(A=np.ones(10), B=np.ones(10)*2)\n",
        "    \n",
        "    \n",
        "##As you can see, in the symbolic version, \n",
        "##when C = B * A is executed, no computation occurs.  "
      ],
      "execution_count": 0,
      "outputs": []
    },
    {
      "metadata": {
        "id": "4V6SNpRCvk5r",
        "colab_type": "text"
      },
      "cell_type": "markdown",
      "source": [
        "# 3 - Dynamic Computation Graphs\n",
        "\n",
        "- PyTorch is referred to as a “defined by run” framework, which means that the computational graph structure (of a neural network architecture) is generated during run time. \n",
        "- The main advantage of this property is that it provides a flexible and programmatic runtime interface that facilitates the construction and modification of systems by connecting operations. \n",
        "- In PyTorch, a new computational graph is defined at each forward pass. This is in stark contrast to TensorFlow which uses a static graph representation.\n",
        "\n",
        "![alt text](https://cdn-images-1.medium.com/max/1600/1*5PLIVNA5fIqEC8-kZ260KQ.gif)\n"
      ]
    },
    {
      "metadata": {
        "id": "1EFAwBxpv0c6",
        "colab_type": "text"
      },
      "cell_type": "markdown",
      "source": [
        "### PyTorch Pros and Cons\n",
        "\n",
        "#### Pros \n",
        "- The default define by-run mode is more similar to customary programming, and you can utilize regular investigating tools as pdb, ipdb or PyCharm debugger; \n",
        "- It has explanatory information parallelism;\n",
        "- It includes a great deal of pre-prepared models and particular parts that are prepared and simple to consolidate\n",
        "\n",
        "####  Cons \n",
        "\n",
        "- It needs to show serving, It’s not creation prepared yet\n",
        "- It needs interfaces for observing and representation, for example, Tensorboard – however, you can associate remotely to Tensorboard."
      ]
    },
    {
      "metadata": {
        "id": "NjFw1xIVwR-6",
        "colab_type": "text"
      },
      "cell_type": "markdown",
      "source": [
        "\n",
        "### PyTorch vs Tensorflow \n",
        "\n",
        "TL;DR - The versatility of PyTorch as a Pythonic framework allows researchers to test out ideas with almost zero friction and therefore it’s the go-to framework for the most advanced cutting edge solutions. Thus, PyTorch for prototyping, Tensorflow for Production\n",
        "\n",
        "![alt text](http://s3-eu-west-1.amazonaws.com/de-blog/uploads/2019/01/pytorch-vs-tensorflow-660x361.jpg)\n",
        "\n",
        "![alt text](http://s3-eu-west-1.amazonaws.com/de-blog/uploads/2019/01/tensorflow-vs-pytorch2-660x382.jpg)"
      ]
    },
    {
      "metadata": {
        "id": "bJdis2jtwoN6",
        "colab_type": "text"
      },
      "cell_type": "markdown",
      "source": [
        "### Free PyTorch Learning Resources\n",
        "\n",
        "- GitHub Tutorials https://github.com/ritchieng/the-incredible-pytorch \n",
        "- Udacity Course https://www.udacity.com/course/deep-learning-pytorch--ud188 \n",
        "- EdX Course https://www.edx.org/course/deep-learning-with-python-and-pytorch \n",
        "- PyTorch team tutorials https://pytorch.org/tutorials/ \n",
        "- Random great blog https://lelon.io/blog/2018/02/08/pytorch-with-baby-steps"
      ]
    },
    {
      "metadata": {
        "id": "qSEJAoggw7kT",
        "colab_type": "text"
      },
      "cell_type": "markdown",
      "source": [
        "### Lets build a Sentiment Analysis model with PyTorch! \n",
        "\n",
        "![alt text](https://docs.microsoft.com/bs-latn-ba/azure/machine-learning/service/media/concept-onnx/onnx.png )\n",
        "\n",
        "https://colab.research.google.com/drive/15MK8YhQ32X5Y7DCGrLCSzG1HNLQ1t79P#scrollTo=3p3d408n228b&forceEdit=true&offline=true&sandboxMode=true&uniqifier=1 \n"
      ]
    },
    {
      "metadata": {
        "id": "DQFdYOyq5Bzo",
        "colab_type": "text"
      },
      "cell_type": "markdown",
      "source": [
        "## Completed Steps\n",
        "\n",
        "- Train Sentiment Analysis Model with PyTorch\n",
        "- Convert PyTorch model to intermediate representation (ONNX)\n",
        "- Convert ONNX to Tensorflow model\n",
        "\n",
        "## Remaining Steps\n",
        "\n",
        "- Create Android App with DialogFlow Integration\n",
        "- Add User Authentication + Storage with Firebase Integration\n",
        "- Add Payments with Paypal Integration\n",
        "- Add Sentiment Analysis Model with Tensorflow Lite Integration"
      ]
    },
    {
      "metadata": {
        "id": "g_OUYpUO5P0o",
        "colab_type": "text"
      },
      "cell_type": "markdown",
      "source": [
        "## Overview of Android\n",
        "\n",
        "![alt text](https://www.studytonight.com/android/images/android-platform-architecture.jpg )\n",
        "\n",
        "![alt text](https://stuff.mit.edu/afs/sipb/project/android/docs/images/fundamentals/diagram_backstack.png)\n",
        "\n",
        "![alt text](https://i.stack.imgur.com/puPLK.png)\n",
        "\n",
        "- Model = Content Provider.\n",
        "\n",
        "- Controller = Activity, Fragment or Service.\n",
        "\n",
        "- View = XML layouts.\n",
        "\n",
        "- App components are the essential building blocks of an Android app\n",
        "\n",
        "#### There are four different types of app components:\n",
        "\n",
        "![alt text](https://image.slidesharecdn.com/android1-6broadcastreceiver-110822085252-phpapp01/95/android-application-component-broadcastreceiver-tutorial-2-728.jpg?cb=1314003702)\n",
        "\n",
        "![alt text](https://image.slidesharecdn.com/android1-13contentprovider-130505101311-phpapp01/95/day-15-content-provider-using-contacts-api-3-638.jpg?cb=1367748850)\n",
        "\n",
        "### Activities\n",
        "- An activity is the entry point for interacting with the user. \n",
        "- It represents a single screen with a user interface.\n",
        "- For example, an email app might have one activity that shows a list of new emails, another activity to compose an email, and another activity for reading emails. \n",
        "\n",
        "### Services\n",
        "- A service is a general-purpose entry point for keeping an app running in the background for all kinds of reasons.\n",
        "- It is a component that runs in the background to perform long-running operations or to perform work for remote processes. A service does not provide a user interface.\n",
        "\n",
        "###  Broadcast receivers \n",
        "- A broadcast receiver is a component that enables the system to deliver events to the app outside of a regular user flow, allowing the app to respond to system-wide broadcast announcements. \n",
        "- Because broadcast receivers are another well-defined entry into the app, the system can deliver broadcasts even to apps that aren't currently running.\n",
        "\n",
        "### Content providers \n",
        "- A content provider manages a shared set of app data that you can store in the file system, in a SQLite database, on the web, or on any other persistent storage location that your app can access. \n",
        "- Through the content provider, other apps can query or modify the data if the content provider allows it."
      ]
    },
    {
      "metadata": {
        "id": "i9WnMAPD70zA",
        "colab_type": "text"
      },
      "cell_type": "markdown",
      "source": [
        "## Overview of DialogFlow\n",
        "\n",
        "We'll use it to automate cognitive behavorial therapy https://www.iwanttochangemylife.org/cbt/cognitive-behavioral-therapy-guide.htm \n",
        "\n",
        "![alt text](https://cdn-images-1.medium.com/max/1600/1*p76bobnf2CkboCs9gQmGLQ.png)\n",
        "\n",
        "- Dialogflow (Previously known as API.AI) is where the magic happens. \n",
        "- It works on natural language processing and backed by Machine Learning . \n",
        "- At Dialogflow the whole ‘conversation’ take place. Dialogflow is backed by Google and runs on Google infrastructure, which means you can scale to millions of users.\n",
        "- Give users new ways to interact with your product by building engaging voice and text-based conversational interfaces powered by AI. \n",
        "- Connect with users on the Google Assistant, Amazon Alexa, Facebook Messenger, and other popular platforms and devices. \n",
        "- The process a Dialogflow agent follows from invocation to fulfillment is similar to someone answering a question, with some liberties taken of course.\n",
        "\n",
        "![alt text](https://cdn-images-1.medium.com/max/800/1*ABeQxsycBfZM6tGFOSvjeA.png)\n",
        "\n",
        "- If the user requesting to speak to our agent — an  invocation is detected using the recognisable terms that we define in the Dialogflow console. \n",
        "- This allows us, as the developers, to define the way in which our conversational experience is started\n",
        "\n",
        "![alt text](https://cdn-images-1.medium.com/max/800/1*Iwb_13-SlBxJQQMtzyiatw.png)\n",
        "\n",
        "- An Intent is a specific action that the user can invoke by using one of the defined terms in the Dialogflow console.\n",
        "- For example, the user could ask “Is it going to rain today?” or “Where is the nearest pizza restaurant” — if these are terms defined within the console, then they will be detected by Dialogflow and the intent that are defined under will be triggered.\n",
        "\n",
        "![alt text](https://cdn-images-1.medium.com/max/800/1*N0lnkW-HLfr4GN0vExoTvQ.png)\n",
        "\n",
        "- An Intent allows us as developers to define a selection of individual tasks that can be invoked by the user. \n",
        "- You should aim to keep these intents focused and concentrate on the functionality that they are crated for, this allows us to keep the length of the invocation short and give the user the desired response in a shorter time frame.\n",
        "\n",
        "![alt text](https://cdn-images-1.medium.com/max/800/1*iwvmU0TFLzF8ZgGSAwqIyQ.png)\n",
        "\n",
        "- Within our Intent we are able to define a list of User Says options — this allow us to define different phrases which can be said by the user in order to trigger our intent.\n",
        "\n",
        "![alt text](https://cdn-images-1.medium.com/max/800/1*5EeD9Sz7wIdRGGMqyAdCkQ.png)\n",
        "\n",
        "- The more User Says options that we define, the easier it will be for users to trigger their desired Intent. Above you can see a list of varying options, but it would be possible for me to grow this even further. \n",
        "\n",
        "![alt text](https://cdn-images-1.medium.com/max/800/1*jxNQZJY7tDOSFEFRrp4qdg.png)\n",
        "\n",
        "- An Entity is a property which can be used by Dialogflow to answer the request from the user — the entity will usually be a keyword within the request such as a name, date, location etc. \n",
        "- When the user speaks or types their request, Dialogflow will look for the entity and the value of the given entity can be used within the request.\n",
        "\n",
        "![alt text](https://cdn-images-1.medium.com/max/800/1*L8AA6r9hfFntfY2NH7WTjA.png)\n",
        "\n",
        "- On the left-hand side you define the value for the Entity, this is the value to be used when the Entity is detected by the system. \n",
        "- And on the right-hand side are the synonyms for each value — this allows us to define the different phrases that can be used for the entity, allowing us to provide a greater chance at recognising the users request.\n",
        "\n",
        "![alt text](https://cdn-images-1.medium.com/max/800/1*X6wW0ntdUeUk5xclQViOmA.png)\n",
        "\n",
        "- At this point, Dialogflow has the request from the user (along with the entity values to be sent with the request), so it now needs to request the information to fulfil the users request. \n",
        "- Now this data is to be sent to our web-hook so that the required information can be fetched (this will be dependant on your implementation). \n",
        "- Once the web-hook has fetched our required information it will send it back to Dialogflow so that it can be presented to the user in the desired manner.\n",
        "\n",
        "![alt text](https://cdn-images-1.medium.com/max/1200/1*5rMcw7Fkj5JMBqGYnGQN1g.png)\n",
        "\n",
        "![alt text](https://cdn-images-1.medium.com/max/800/1*Ns0o0MGpvcE-yn5DsdVqxw.png)\n",
        "\n",
        "- The response is the content which Dialogflow will deliver to our User once the request for fulfilment has completed. \n",
        "- On devices with screens this will consist of textual content and rich content if present — the textual content will be spoken to the user. On hardware devices without screens the content will only be read out to the user.\n",
        "- The Context is used to keep a reference to parameter values as the user moves between intents throughout the conversation. \n",
        "- Context is a powerful concept as it allows us to make decisions in our responses based off of these previous responses, repair conversations that may become broken for any reason and also branch off into different intents to create a fluid conversation with the user.\n",
        "\n"
      ]
    },
    {
      "metadata": {
        "id": "aZyY99iG-kIn",
        "colab_type": "text"
      },
      "cell_type": "markdown",
      "source": [
        "## Firebase Overview\n",
        "\n",
        "- Firebase is a mobile and web app development platform that provides developers with a plethora of tools and services to help them develop high-quality apps, grow their user base, and earn more profit.\n",
        "- After it was acquired by Google in 2014, Firebase rapidly evolved into the multifunctional behemoth of a mobile and web platform that it is today.\n",
        "\n",
        "![alt text](https://cdn-images-1.medium.com/max/1600/0*HORJhBhTELtW9qQw)\n",
        "\n",
        "- The Firebase Realtime Database is a cloud-hosted NoSQL database that lets you store and sync between your users in realtime.\n",
        "\n",
        "- The Realtime Database is really just one big JSON object that the developers can manage in realtime.\n",
        "\n",
        "![alt text](https://cdn-images-1.medium.com/max/1600/1*kiliGRYQIVzsCTx_JsUYdg.png)\n",
        "\n",
        "![alt text](https://cdn-images-1.medium.com/max/1600/1*wwQ44b7hKQPC3qJeST-f_g.gif)\n",
        "\n",
        "- Realtime syncing makes it easy for your users to access their data from any device, be it web or mobile. Realtime Database also helps your users collaborate with one another.\n",
        "\n",
        "- Another amazing benefit of Realtime Database is that it ships with mobile and web SDKs, allowing you to build your apps without the need for servers.\n",
        "\n",
        "- When your users go offline, the Realtime Database SDKs use local cache on the device to serve and store changes. When the device comes online, the local data is automatically synchronized.\n",
        "\n",
        "- The Realtime Database can also integrate with Firebase Authentication to provide a simple and intuitive authentication process.\n",
        "\n",
        "- Firebase Authentication provides backend services, easy-to-use SDKs, and ready-made UI libraries to authenticate users to your app.\n",
        "\n",
        "- Normally, it would take you months to set up your own authentication system. And even after that, you would need to keep a dedicated team to maintain that system. But if you use Firebase, you can set up the entire system in under 10 lines of code that will handle everything for you, including complex operations like account merging.\n"
      ]
    },
    {
      "metadata": {
        "id": "sKamjC9Z-1hH",
        "colab_type": "text"
      },
      "cell_type": "markdown",
      "source": [
        "## Tensorflow Lite Overview\n",
        "\n",
        "## Find pretrained models here https://github.com/search?q=pretrained+models \n",
        "\n",
        "![alt text](https://cdn-images-1.medium.com/max/1600/0*Bt9qwKDjd1xi5RDd.)"
      ]
    }
  ]
}
